{
 "cells": [
  {
   "cell_type": "markdown",
   "id": "6eb40edf",
   "metadata": {},
   "source": [
    "The difference between the last frame time and the current frame time is knows as the:\n",
    "\n",
    "$$\n",
    "\\Delta t\n",
    "$$\n",
    "\n",
    "$$\n",
    "\\Delta t = t' - t\n",
    "$$\n",
    "\n",
    "This can either be measured in milliseconds (size_t) or seconds (float)"
   ]
  },
  {
   "cell_type": "markdown",
   "id": "f9671836",
   "metadata": {},
   "source": [
    "In one frame, the software:\n",
    "* Updated every parameter\n",
    "* Renders it\n",
    "* Skips back to step 1.\n",
    "\n",
    "$$\n",
    "30 \\textrm{fps} = \\frac{1}{30} = 0.0333...\n",
    "$$\n",
    "$$\n",
    "60 \\textrm{fps} = \\frac{1}{60} = 0.0166...\n",
    "$$"
   ]
  },
  {
   "cell_type": "markdown",
   "id": "62206d5c",
   "metadata": {},
   "source": [
    "In early games, physics simulation and manipulation was tied to this framerate. This lead to the game running faster or slower depending on the components of your computer. To make it such that an object with location $P$ with velocity $V$ moves to location $P'$ not dependent on the framerate, you do:\n",
    "\n",
    "$$\n",
    "P' = P + V \\Delta t\n",
    "$$"
   ]
  },
  {
   "cell_type": "markdown",
   "id": "933934fd",
   "metadata": {},
   "source": [
    "As an example, if this object wanted to jump, we can define a vector $J$ with a specific magnitude and simply add it to the velocity vector:\n",
    "\n",
    "$$\n",
    "V' = V + J\n",
    "$$\n",
    "\n",
    "To bring the object back to the ground, we need to define another vector $G$ and add it to the equation:\n",
    "\n",
    "$$\n",
    "G = \\begin{pmatrix} 0, -9.8 \\end{pmatrix} \\\\ \n",
    "V' = V + G \\Delta t\n",
    "$$"
   ]
  },
  {
   "cell_type": "markdown",
   "id": "3d8181f4",
   "metadata": {},
   "source": [
    "This creates a parrabola for jumping. "
   ]
  },
  {
   "cell_type": "code",
   "execution_count": null,
   "id": "07ecc747",
   "metadata": {},
   "outputs": [],
   "source": []
  }
 ],
 "metadata": {
  "kernelspec": {
   "display_name": "Python 3 (ipykernel)",
   "language": "python",
   "name": "python3"
  },
  "language_info": {
   "codemirror_mode": {
    "name": "ipython",
    "version": 3
   },
   "file_extension": ".py",
   "mimetype": "text/x-python",
   "name": "python",
   "nbconvert_exporter": "python",
   "pygments_lexer": "ipython3",
   "version": "3.9.5"
  }
 },
 "nbformat": 4,
 "nbformat_minor": 5
}
