{
 "cells": [
  {
   "cell_type": "markdown",
   "id": "6673e7f4",
   "metadata": {},
   "source": [
    "\n",
    "&nbsp;\n",
    "\n",
    "&nbsp;\n",
    "\n",
    "&nbsp;\n",
    "\n",
    "#### Interpolation\n",
    "\n",
    "&nbsp;\n"
   ]
  },
  {
   "cell_type": "markdown",
   "id": "0f3e2a4e",
   "metadata": {},
   "source": [
    "***Interpolation*** is a mathematical method of constructing new data points from known data points. The specific method we will be using is ***Lerp*** or ***Linear Interpolation***."
   ]
  },
  {
   "cell_type": "markdown",
   "id": "f57807b9",
   "metadata": {},
   "source": [
    "In order to generate a vector $C$ between two known points $A$ and $B$, we need to calculate the *slope* between the two points"
   ]
  },
  {
   "cell_type": "markdown",
   "id": "b2b56188",
   "metadata": {},
   "source": [
    "$$\n",
    "A = \\begin{pmatrix}{x}_{0}, {y}_{0}\\end{pmatrix} \\\\\n",
    "B = \\begin{pmatrix}{x}_{1}, {y}_{1}\\end{pmatrix} \\\\\n",
    "$$\n",
    "\n",
    "For a value $x$ in the interval $\\begin{pmatrix}{x}_{0}, {x}_{1}\\end{pmatrix}$, the value $y$ along the streight line is given by the equation of slopes:\n",
    "\n",
    "$$\n",
    "\\frac{{y}_{1} - {y}_{0}}{{x}_{1} - {x}_{0}}\n",
    "$$\n",
    "\n",
    "$$\n",
    "y = {y}_{1} + \\begin{pmatrix}x - {x}_{0}\\end{pmatrix}\\frac{{y}_{1} - {y}_{0}}{{x}_{1}-{x}_{0}}\n",
    "$$\n"
   ]
  },
  {
   "cell_type": "markdown",
   "id": "2026bc58",
   "metadata": {},
   "source": [
    "Computationally, we will be using the following equation to minimize floting point error:\n",
    "\n",
    "$$\n",
    "C = A(1-T) + BT\n",
    "$$\n",
    "where:\n",
    "* C = the interpolated value\n",
    "* A = known number\n",
    "* B = known number\n",
    "* T = slope"
   ]
  },
  {
   "cell_type": "markdown",
   "id": "4338253f",
   "metadata": {},
   "source": [
    "![linear interpolation](https://matthew-brett.github.io/teaching/_images/linear_interpolation-1.png)"
   ]
  },
  {
   "cell_type": "markdown",
   "id": "b0d0d218",
   "metadata": {},
   "source": [
    "A common use of interpolation in games is for smoothing position or rotation. For example, when updating the camera position from user input, we may want to smoothly do this using linear interpolation to current orientation. Another big example is for updating position and velocities in a MMO game."
   ]
  },
  {
   "cell_type": "markdown",
   "id": "57fc55d3",
   "metadata": {},
   "source": []
  }
 ],
 "metadata": {
  "kernelspec": {
   "display_name": "Python 3 (ipykernel)",
   "language": "python",
   "name": "python3"
  },
  "language_info": {
   "codemirror_mode": {
    "name": "ipython",
    "version": 3
   },
   "file_extension": ".py",
   "mimetype": "text/x-python",
   "name": "python",
   "nbconvert_exporter": "python",
   "pygments_lexer": "ipython3",
   "version": "3.9.5"
  }
 },
 "nbformat": 4,
 "nbformat_minor": 5
}
