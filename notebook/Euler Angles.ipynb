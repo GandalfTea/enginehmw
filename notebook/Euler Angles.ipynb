{
 "cells": [
  {
   "cell_type": "markdown",
   "id": "e64c086d",
   "metadata": {},
   "source": [
    "\n",
    "&nbsp;\n",
    "\n",
    "&nbsp;\n",
    "\n",
    "&nbsp;\n",
    "\n",
    "#### Euler Angles"
   ]
  },
  {
   "cell_type": "markdown",
   "id": "dd62d498",
   "metadata": {},
   "source": [
    "Euler angles are the traditional 3D manuverment mechanigc:\n",
    "* pitch\n",
    "* yaw\n",
    "* roll"
   ]
  },
  {
   "cell_type": "markdown",
   "id": "5d9e68c3",
   "metadata": {},
   "source": [
    "They are easily stored in vectors, represented by *radians* instead of degrees.    \n",
    "A full circle is 360 degrees, or $2 \\pi$ in radians    \n",
    "\n",
    "$$\n",
    "\\pi = 3.14159265359 = 180° \\\\\n",
    "0.5\\pi = 90° \\\\\n",
    "0.2\\pi = 45°\n",
    "$$"
   ]
  },
  {
   "cell_type": "markdown",
   "id": "c3e4d9ed",
   "metadata": {},
   "source": [
    "Therefore a rotation of:\n",
    "$$\n",
    "(\\pi, 0.1\\pi, 1.9\\pi)\n",
    "$$\n",
    "is:\n",
    "$$\n",
    "(180°, 18°, 342°)\n",
    "$$"
   ]
  },
  {
   "cell_type": "markdown",
   "id": "62165ab2",
   "metadata": {},
   "source": [
    "Conversion:\n",
    "\n",
    "$$\n",
    "\\textrm{Degrees} = \\textrm{radians} * 180 / \\pi \\\\\n",
    "\\textrm{Radians} = \\textrm{degrees} / (180 / \\pi)\n",
    "$$"
   ]
  },
  {
   "cell_type": "markdown",
   "id": "5e7b5739",
   "metadata": {},
   "source": [
    "For example, if we wanted to rotate a character to face a vector $\\begin{pmatrix}2.2, 1.4\\end{pmatrix}$, we want to find the angle between it and and an axee. To do this, we use SOH-CAH-TOA:\n",
    "\n",
    "$$\n",
    "\\textrm{SOH}: sin\\theta = \\textrm{opposite / hypotenuse} \\\\\n",
    "\\textrm{CAH}: cos\\theta = \\textrm{adjacent / hypotenuse} \\\\\n",
    "\\textrm{TOA}: tan\\theta = \\textrm{opposite / adjacent}\n",
    "$$"
   ]
  },
  {
   "cell_type": "markdown",
   "id": "a0de270e",
   "metadata": {},
   "source": [
    "![angles](https://i.imgur.com/pigkjRX.png)"
   ]
  },
  {
   "cell_type": "markdown",
   "id": "1007f43f",
   "metadata": {},
   "source": [
    "Using the vector, we can calculate $tan\\theta$:\n",
    "\n",
    "$$\n",
    "tan\\theta = \\textrm{opposite / adjacent} \\\\\n",
    "tan\\theta = \\frac{1.4}{2.2} \\\\ \n",
    "tan\\theta = 0.63636363636363636363\n",
    "$$\n",
    "\n",
    "Now, we inverse this to find the angle $34.47°$ or $0.5667$ radians.     \n",
    "We call the inverse of a tangent *arc tangent* or $atan$. It can also be noted as:\n",
    "$$\n",
    "tan^{-1}\n",
    "$$"
   ]
  },
  {
   "cell_type": "markdown",
   "id": "7c025317",
   "metadata": {},
   "source": [
    "If instead we only knew the length of the hypotenuse $2.608$, the $L$ of the vector, and that the angle is $32.47°$, we could instead use $SOH$ and find the opposite:\n",
    "\n",
    "$$\n",
    "sin\\theta = \\textrm{opposite / hypotenuse} \\\\\n",
    "\\textrm{opposite} = sin\\theta * \\textrm{hypotenuse}\n",
    "$$"
   ]
  },
  {
   "cell_type": "markdown",
   "id": "e9e6b55f",
   "metadata": {},
   "source": [
    "An then the adjacent, with either $CAH$ or $TOA$:\n",
    "\n",
    "$$\n",
    "cos\\theta = \\textrm{adjacent / hypotenuse} \\\\\n",
    "\\textrm{adjacent} = \\textrm{opposite} / tan\\theta\n",
    "$$"
   ]
  },
  {
   "cell_type": "markdown",
   "id": "f1613854",
   "metadata": {},
   "source": [
    "In the case of normalized vectors where the hypotenuse is 1:\n",
    "\n",
    "$$\n",
    "\\textrm{opposite} = sin\\theta \\\\\n",
    "\\textrm{adjacent} = cos\\theta\n",
    "$$"
   ]
  },
  {
   "cell_type": "markdown",
   "id": "c587d0cc",
   "metadata": {},
   "source": [
    "All of this put simply, we can transform a vector to an angle like so:\n",
    "$$\n",
    "\\theta = tan^{-1}(y/x)\n",
    "$$\n",
    "or convert back to a unit vector:\n",
    "\n",
    "$$\n",
    "V = (cos\\theta, sin\\theta)\n",
    "$$"
   ]
  },
  {
   "cell_type": "markdown",
   "id": "71aa4a99",
   "metadata": {},
   "source": [
    "\n",
    "&nbsp;\n",
    "\n",
    "&nbsp;\n",
    "\n",
    "&nbsp;\n",
    "\n"
   ]
  },
  {
   "cell_type": "markdown",
   "id": "bada9a99",
   "metadata": {},
   "source": [
    "This conversion can also be made easily for 2D in code:\n",
    "\n",
    "$$\\theta = tan^{-1}(y/x)$$\n",
    "```c++\n",
    "Vector2 VectorToRadians(Vector2 a) {\n",
    "    float rv = 0.0f;\n",
    "    rv = atan(a.Y, a.X);\n",
    "    return rv;\n",
    "}\n",
    "\n",
    "\n",
    "```"
   ]
  },
  {
   "cell_type": "markdown",
   "id": "f397ab06",
   "metadata": {},
   "source": [
    "$$\n",
    "V = (cos\\theta, sin\\theta)\n",
    "$$\n",
    "\n",
    "```c++\n",
    "Vector2 RadiansToVector(float angle) {\n",
    "    Vector2 rv = new Vector2(cos(angle), sin(angle));\n",
    "    return rv;\n",
    "}\n",
    "```"
   ]
  },
  {
   "cell_type": "markdown",
   "id": "f6dcb061",
   "metadata": {},
   "source": [
    "\n",
    "&nbsp;\n",
    "\n",
    "&nbsp;\n",
    "\n",
    "&nbsp;\n"
   ]
  },
  {
   "cell_type": "markdown",
   "id": "07ea1bfb",
   "metadata": {},
   "source": [
    "Translating this to 3D is more difficult.    \n",
    "Imagine we have an arbitrary rotation vector like $R = \\begin{pmatrix}45°, 45°, 45°\\end{pmatrix}$ and a directional vector $V$.   \n",
    "\n",
    "***The rotation around $x$ is our pitch***"
   ]
  },
  {
   "cell_type": "markdown",
   "id": "9dacaedf",
   "metadata": {},
   "source": [
    "![pitch](https://i.imgur.com/BhqEtM9.png)"
   ]
  },
  {
   "cell_type": "markdown",
   "id": "52a3b5a6",
   "metadata": {},
   "source": [
    "$$\n",
    "{V}_{x} = \\phantom{there s}  \\\\\n",
    "{V}_{y} = sin(P) \\\\\n",
    "{V}_{z} = cos(P)\n",
    "$$"
   ]
  },
  {
   "cell_type": "markdown",
   "id": "e6c8e9ed",
   "metadata": {},
   "source": [
    "***The rotation around $Y$ is our yaw***\n",
    "\n",
    "![yaw](https://i.imgur.com/jWIXyxD.png)"
   ]
  },
  {
   "cell_type": "markdown",
   "id": "d194c11b",
   "metadata": {},
   "source": [
    "$$\n",
    "{V}_{x} = cos(Y) \\phantom{hello the} \\\\\n",
    "{V}_{y} = sin(P) \\phantom{hello the} \\\\\n",
    "{V}_{z} = cos(P) * sin(Y)\n",
    "$$"
   ]
  },
  {
   "cell_type": "markdown",
   "id": "e12238a9",
   "metadata": {},
   "source": [
    "***Rotation around $Z$ is out roll***\n",
    "![roll](https://i.imgur.com/pxMcU4y.png)"
   ]
  },
  {
   "cell_type": "markdown",
   "id": "dddad74b",
   "metadata": {},
   "source": [
    "There is no way to represent the value of the Roll as a 3D vector. We use the cos and sin of the pitch instead.\n",
    "\n",
    "$$\n",
    "{V}_{x} = cos(Y) * cos(P) \\\\\n",
    "{V}_{y} = sin(P) \\phantom{hello the} \\\\\n",
    "{V}_{z} = cos(P) * sin(Y)\n",
    "$$\n",
    "\n",
    "Therefore, the roll is:\n",
    "\n",
    "$$\n",
    "{V}_{x} = cos(R)\\\\\n",
    "{V}_{y} = sin(R) \\\\\n",
    "{V}_{z} = 0\n",
    "$$\n"
   ]
  },
  {
   "cell_type": "markdown",
   "id": "901e2622",
   "metadata": {},
   "source": [
    "If we plug in real numbers:\n",
    "\n",
    "$$\n",
    "{V}_{x} = cos(45)cos(45) = 0.5 \\\\\n",
    "{V}_{y} = sin(45) = 0.707 \\\\\n",
    "{V}_{z} = cos(45)sin(45) = 0.5\n",
    "$$"
   ]
  },
  {
   "cell_type": "markdown",
   "id": "7c410a29",
   "metadata": {},
   "source": [
    "And the roll:\n",
    "$$\n",
    "{V}_{x} = cos(45) = 0.707 \\\\\n",
    "{V}_{y} = sin(45) = 0.707\n",
    "$$"
   ]
  },
  {
   "cell_type": "markdown",
   "id": "26ccfb34",
   "metadata": {},
   "source": []
  }
 ],
 "metadata": {
  "kernelspec": {
   "display_name": "Python 3 (ipykernel)",
   "language": "python",
   "name": "python3"
  },
  "language_info": {
   "codemirror_mode": {
    "name": "ipython",
    "version": 3
   },
   "file_extension": ".py",
   "mimetype": "text/x-python",
   "name": "python",
   "nbconvert_exporter": "python",
   "pygments_lexer": "ipython3",
   "version": "3.9.5"
  }
 },
 "nbformat": 4,
 "nbformat_minor": 5
}
