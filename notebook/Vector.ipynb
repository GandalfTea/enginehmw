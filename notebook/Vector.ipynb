{
 "cells": [
  {
   "cell_type": "markdown",
   "id": "8f935d07",
   "metadata": {},
   "source": [
    "#### Vector Arithmatic"
   ]
  },
  {
   "cell_type": "markdown",
   "id": "c97a5466",
   "metadata": {},
   "source": [
    "\n",
    "&nbsp;\n",
    "\n",
    "&nbsp;\n",
    "\n",
    "&nbsp;\n"
   ]
  },
  {
   "cell_type": "markdown",
   "id": "88e68b03",
   "metadata": {},
   "source": [
    "We define a vector as:\n",
    "\n",
    "```c++\n",
    "class Vector3 {\n",
    "    public:\n",
    "  \n",
    "        // Constructors and Destructors\n",
    "        Vector3(double x, double y, double z);\n",
    "        Vector3(const Vector& a);               // Copy constructor\n",
    "        ~Vector3();\n",
    "                \n",
    "        // Getters and Setters\n",
    "        \n",
    "        double X();\n",
    "        void X(double x);\n",
    "        \n",
    "        double Y();\n",
    "        void Y(double y);\n",
    "        \n",
    "        double Z();\n",
    "        void Z(double z);\n",
    "        \n",
    "        Vector3 L();\n",
    "        Vector3 normalize();\n",
    "        Vector3 getCoords();\n",
    "        void set(double x, double y, double z);\n",
    "        \n",
    "        // Operators\n",
    "        Vector3 operator+(const Vector3& a, const Vector3& b);\n",
    "        Vector3 operator-(const Vector3& a, const Vector3& b);\n",
    "        Vector3 operator*(const Vector3& a, const Vector3& b);\n",
    "        \n",
    "        Vector3 operator*(size_t lhs, const Vector3& a);\n",
    "\n",
    "    private:\n",
    "        double X, Y, Z;\n",
    "        double L;         // L is not sqrt() ed\n",
    "        \n",
    "        // called when a coordinate is changed.\n",
    "        double updateLength(double x, double y, double z)\n",
    "}\n",
    "\n",
    "```"
   ]
  },
  {
   "cell_type": "markdown",
   "id": "f4a04884",
   "metadata": {},
   "source": [
    "\n",
    "&nbsp;\n",
    "\n",
    "&nbsp;\n",
    "\n",
    "&nbsp;\n"
   ]
  },
  {
   "cell_type": "markdown",
   "id": "c5a0219c",
   "metadata": {},
   "source": [
    "The length or **magnitude**  $L$ of a vector $a$, usually denoted as $\\left|{X}\\right|$, is the triangulated length of the hypotenuse:\n",
    "$$\n",
    "L = \\sqrt[2]{x^2 + y^2}\n",
    "$$"
   ]
  },
  {
   "cell_type": "markdown",
   "id": "650bd077",
   "metadata": {},
   "source": [
    "We will calculate the length in the constructor and store it in the `L` variable:\n"
   ]
  },
  {
   "cell_type": "markdown",
   "id": "87b61894",
   "metadata": {},
   "source": [
    "```c++\n",
    "double Vector3::updateLength(double x, double y, double z) {\n",
    "    L = pow(x, 2) + pow(y, 2) + pow(z, 2)\n",
    "    \n",
    "}\n",
    "```\n",
    "\n",
    "```c++\n",
    "Vector3::Vector3(double x, double y, double& z) \n",
    "    : X(x), Y(y), Z(z)\n",
    "{\n",
    "    updateLength(x, y, z);\n",
    "}\n",
    "```\n",
    "\n",
    "```c++\n",
    "\n",
    "Vector3::Vector3(const Vector3& a)\n",
    "    : X(a.X), Y(a.Y), Z(a.Z), L(a.L) {}\n",
    "```\n",
    "\n",
    "\n",
    "```c++\n",
    "\n",
    "double Vector3::L() {\n",
    "    return L;\n",
    "}\n",
    "```"
   ]
  },
  {
   "cell_type": "markdown",
   "id": "cf589218",
   "metadata": {},
   "source": [
    "\n",
    "&nbsp;\n",
    "\n",
    "&nbsp;\n",
    "\n",
    "&nbsp;\n"
   ]
  },
  {
   "cell_type": "markdown",
   "id": "19371dcf",
   "metadata": {},
   "source": [
    "A ***normalized*** vector of $X$ is in the same direction but with length `L` equal to 1. Also called a *unit vector*. It is denoted $\\wedge{X}$ and is equal to:\n",
    "\n",
    "$$\n",
    "\\wedge{X} = \\frac{X}{\\left|{X}\\right|}\n",
    "$$\n"
   ]
  },
  {
   "cell_type": "markdown",
   "id": "9aa2d3ee",
   "metadata": {},
   "source": [
    "```c++\n",
    "Vector3 Vector3::normalize() {\n",
    "    x = X / L;\n",
    "    y = Y / L;\n",
    "    z = Z / L;\n",
    "    return Vector3(x, y, z);\n",
    "}\n",
    "```"
   ]
  },
  {
   "cell_type": "markdown",
   "id": "bd08d54a",
   "metadata": {},
   "source": [
    "\n",
    "&nbsp;\n",
    "\n",
    "&nbsp;\n",
    "\n",
    "&nbsp;\n",
    "\n",
    "&nbsp;\n"
   ]
  },
  {
   "cell_type": "markdown",
   "id": "3a782299",
   "metadata": {},
   "source": [
    "We define vector addition and subtraction as:"
   ]
  },
  {
   "cell_type": "markdown",
   "id": "869c7a21",
   "metadata": {},
   "source": [
    "$$\n",
    "a = (3, 5) \\\\\n",
    "b = (-6, 7) \\\\\n",
    "$$\n",
    "$$\n",
    "a + b = (3 + (-6), 5 + 7) \\\\ \n",
    "a - b = (3 - 6, 5 - 7) \\\\\n",
    "$$"
   ]
  },
  {
   "cell_type": "markdown",
   "id": "d3ec6e18",
   "metadata": {},
   "source": [
    "```c++\n",
    "Vector3 Vector3::operator+(const Vector& a, const Vector& b) {\n",
    "    x = a.X + b.X;\n",
    "    y = a.Y + b.Y;\n",
    "    z = a.Z + b.Z;\n",
    "    return Vector3 result(x, y, z);\n",
    "}\n",
    "```\n",
    "```cpp\n",
    "Vector3 Vector3::operator-(const Vector& a, const Vector& b) {\n",
    "    x = a.X - b.X;\n",
    "    y = a.Y - b.Y;\n",
    "    z = a.Z - b.Z;\n",
    "    return Vector3 result(x, y, z);\n",
    "}\n",
    "```"
   ]
  },
  {
   "cell_type": "markdown",
   "id": "71ff1601",
   "metadata": {},
   "source": [
    "You can also scale a vector $a$ by any non-zero float constant $K$:\n",
    "\n",
    "$$\n",
    "Ka = (Kx, Ky, Kz) \\\\\n",
    "2a = (2x, 2y, 2z)\n",
    "$$"
   ]
  },
  {
   "cell_type": "markdown",
   "id": "fc207ce7",
   "metadata": {},
   "source": [
    "```c++\n",
    "Vector3 Vector3::operator*(float K, const Vector3& a) {\n",
    "    x = a.X * K;\n",
    "    y = a.Y * K;\n",
    "    z = a.Z * K;\n",
    "    return Vector3(x, y, z);\n",
    "}\n",
    "```"
   ]
  },
  {
   "cell_type": "markdown",
   "id": "0fa87993",
   "metadata": {},
   "source": [
    "\n",
    "&nbsp;\n",
    "\n",
    "&nbsp;\n",
    "\n",
    "&nbsp;\n",
    "\n",
    "&nbsp;\n"
   ]
  },
  {
   "cell_type": "markdown",
   "id": "b8053e4e",
   "metadata": {},
   "source": [
    "#### Vector Dot Product and Cross Product"
   ]
  },
  {
   "cell_type": "markdown",
   "id": "c662f8dd",
   "metadata": {},
   "source": [
    "**The dot product multiplies the magnitudes of the vectors, resulting in a *scalar***          \n",
    "**The cross product calculates a *perpendicular vector* to the two initial ones.**      "
   ]
  },
  {
   "cell_type": "markdown",
   "id": "fa88ba66",
   "metadata": {},
   "source": [
    "Normally, in mathematics the **dot product** of two vectors $a$ and $b$:\n",
    "\n",
    "$$\n",
    "a \\cdot b = \\left| a \\right| \\left| b \\right|  cos(\\theta)\n",
    "$$\n",
    "\n",
    "while the **cross product** is:\n",
    "\n",
    "$$\n",
    "a \\times b = \\left| a \\right| \\left| b \\right| sin(\\theta)\n",
    "$$\n",
    "\n",
    "$\\theta$ being the angle between the two vectors.\n"
   ]
  },
  {
   "cell_type": "markdown",
   "id": "3c0e1fa3",
   "metadata": {},
   "source": [
    "This is not computationally efficient, and therefore we will calculate dot products as:\n",
    "\n",
    "\n",
    "$$\n",
    "a \\cdot b = {a}_{x}{b}_{x} + {a}_{y}{b}_{y} + {a}_{z}{b}_{z}\n",
    "$$\n",
    "\n",
    "and cross products as:\n",
    "\n",
    "$$\n",
    "c = a \\times b \\\\\n",
    "{c}_{x} = {a}_{y}{b}_{z} - {a}_{z}{b}_{y} \\\\\n",
    "{c}_{y} = {a}_{z}{b}_{x} - {a}_{x}{b}_{z} \\\\\n",
    "{c}_{x} = {a}_{x}{b}_{y} - {a}_{y}{b}_{x}\n",
    "$$"
   ]
  },
  {
   "cell_type": "markdown",
   "id": "fbd8c09c",
   "metadata": {},
   "source": [
    "If the vectors are normalized, the dot products result in:\n",
    "* same direction : 1\n",
    "* perpendicular : 0\n",
    "* opposite : -1"
   ]
  },
  {
   "cell_type": "markdown",
   "id": "db55966e",
   "metadata": {},
   "source": [
    "As an example, you can use this to easily calculate weather the player is facing the back of an npc. The npc's forward-vector is $R$ and has a random value. If the player's forward vector $V$ is more than 0 when dot producted to the npc's, then it is behind him."
   ]
  },
  {
   "cell_type": "markdown",
   "id": "866df961",
   "metadata": {},
   "source": []
  }
 ],
 "metadata": {
  "kernelspec": {
   "display_name": "Python 3 (ipykernel)",
   "language": "python",
   "name": "python3"
  },
  "language_info": {
   "codemirror_mode": {
    "name": "ipython",
    "version": 3
   },
   "file_extension": ".py",
   "mimetype": "text/x-python",
   "name": "python",
   "nbconvert_exporter": "python",
   "pygments_lexer": "ipython3",
   "version": "3.9.5"
  }
 },
 "nbformat": 4,
 "nbformat_minor": 5
}
